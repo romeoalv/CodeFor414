{
 "cells": [
  {
   "cell_type": "code",
   "execution_count": 46,
   "id": "606904d1-ad1b-4f55-b510-9c4c7614e1c6",
   "metadata": {},
   "outputs": [
    {
     "name": "stdout",
     "output_type": "stream",
     "text": [
      "RMSE: 14.96, R² Score: 0.31\n"
     ]
    }
   ],
   "source": [
    "import pandas as pd\n",
    "from sklearn.model_selection import train_test_split\n",
    "from sklearn.ensemble import RandomForestRegressor\n",
    "from sklearn.preprocessing import StandardScaler\n",
    "from sklearn.metrics import mean_squared_error, r2_score\n",
    "from sklearn.metrics import root_mean_squared_error\n",
    "\n",
    "# Load the dataset\n",
    "df = pd.read_csv(\"data.csv\")\n",
    "df = df[df['year'] >= 2018]\n",
    "df = df.dropna().drop_duplicates()\n",
    "\n",
    "features = ['danceability', 'energy', 'loudness', 'speechiness', 'acousticness', 'instrumentalness', 'valence', 'tempo']\n",
    "\n",
    "X = df[features]\n",
    "y = df['popularity']\n",
    "\n",
    "scaler = StandardScaler()\n",
    "X_scaled = scaler.fit_transform(X)\n",
    "X_train, X_test, y_train, y_test = train_test_split(X_scaled, y, test_size=0.2, random_state=42)\n",
    "\n",
    "model = RandomForestRegressor(n_estimators=100, random_state=42)\n",
    "model.fit(X_train, y_train)\n",
    "\n",
    "y_pred = model.predict(X_test)\n",
    "rmse = root_mean_squared_error(y_test, y_pred)\n",
    "r2 = r2_score(y_test, y_pred)\n",
    "\n",
    "print(f\"RMSE: {rmse:.2f}, R² Score: {r2:.2f}\")"
   ]
  },
  {
   "cell_type": "code",
   "execution_count": 41,
   "id": "5860ef85-706b-4768-a53e-4e57b764a78a",
   "metadata": {},
   "outputs": [
    {
     "name": "stdout",
     "output_type": "stream",
     "text": [
      "                  name                          artists  Actual  Predicted  \\\n",
      "0  If I Can't Have You                 ['Shawn Mendes']       3  77.580000   \n",
      "1  Lose You To Love Me                 ['Selena Gomez']       1  73.560000   \n",
      "2            Peligrosa  ['J Balvin', 'Wisin', 'Yandel']       3  72.958333   \n",
      "3                 Azul                     ['J Balvin']       7  75.716667   \n",
      "4       Muñeco De Lego                      ['KAROL G']       0  68.460000   \n",
      "\n",
      "       Error   AbsError  \n",
      "0  74.580000  74.580000  \n",
      "1  72.560000  72.560000  \n",
      "2  69.958333  69.958333  \n",
      "3  68.716667  68.716667  \n",
      "4  68.460000  68.460000  \n"
     ]
    }
   ],
   "source": [
    "wrong_indices = wrong_preds.index\n",
    "wrong_samples = df.loc[wrong_indices, ['name', 'artists']]\n",
    "wrong_results = pd.concat([wrong_samples.reset_index(drop=True), wrong_preds.reset_index(drop=True)], axis=1)\n",
    "print(wrong_results)"
   ]
  }
 ],
 "metadata": {
  "kernelspec": {
   "display_name": "Python 3 (ipykernel)",
   "language": "python",
   "name": "python3"
  },
  "language_info": {
   "codemirror_mode": {
    "name": "ipython",
    "version": 3
   },
   "file_extension": ".py",
   "mimetype": "text/x-python",
   "name": "python",
   "nbconvert_exporter": "python",
   "pygments_lexer": "ipython3",
   "version": "3.12.4"
  }
 },
 "nbformat": 4,
 "nbformat_minor": 5
}
