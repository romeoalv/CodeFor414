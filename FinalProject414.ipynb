{
 "cells": [
  {
   "cell_type": "code",
   "execution_count": 10,
   "id": "bd04d2b6-bb7b-4175-ae48-f95519999c7e",
   "metadata": {},
   "outputs": [
    {
     "name": "stdout",
     "output_type": "stream",
     "text": [
      "Top 10 players similar to Patrick Mahomes:\n",
      "                name  similarity_score\n",
      "3         Will Levis          0.998239\n",
      "20       Brock Purdy          0.997286\n",
      "55    Baker Mayfield          0.996787\n",
      "100    Blake Bortles          0.996566\n",
      "188       Kevin Kolb          0.996496\n",
      "164     Josh Freeman          0.996482\n",
      "21   Trevor Lawrence          0.996338\n",
      "14     Kenny Pickett          0.995433\n",
      "130   Russell Wilson          0.995230\n",
      "80      Paxton Lynch          0.995207\n",
      "\n",
      "\n",
      "Top 10 players similar to Lamar Jackson:\n",
      "                         name  similarity_score\n",
      "35                Jalen Hurts          0.997575\n",
      "197               Vince Young          0.997287\n",
      "141          Colin Kaepernick          0.994848\n",
      "51               Easton Stick          0.990337\n",
      "123              B.J. Daniels          0.987769\n",
      "16               Malik Willis          0.987067\n",
      "101            Johnny Manziel          0.985473\n",
      "85               Dak Prescott          0.984996\n",
      "9    Dorian Thompson-Robinson          0.983734\n",
      "54             Trace McSorley          0.983128\n",
      "\n",
      "\n",
      "Top 10 players similar to Tom Brady:\n",
      "                name  similarity_score\n",
      "132     Kirk Cousins          0.999304\n",
      "78        Jared Goff          0.999208\n",
      "131       Nick Foles          0.998765\n",
      "108    A.J. McCarron          0.998655\n",
      "104  Jimmy Garoppolo          0.998546\n",
      "232        Jim Sorgi          0.998536\n",
      "7    Aidan O'Connell          0.998527\n",
      "284      Marc Bulger          0.998492\n",
      "289       Tim Rattay          0.998373\n",
      "118      Ryan Nassib          0.998362\n",
      "\n",
      "\n"
     ]
    }
   ],
   "source": [
    "import pandas as pd\n",
    "import numpy as np\n",
    "from scipy.spatial.distance import cdist\n",
    "from sklearn.preprocessing import MinMaxScaler\n",
    "\n",
    "# Load dataset\n",
    "file_path = \"qb_index_no_tier.csv\"\n",
    "df = pd.read_csv(file_path)\n",
    "\n",
    "# Selecting relevant features for similarity analysis\n",
    "features = ['nfl-comp%', 'nfl-y/a', 'nfl-ay/a', 'nfl-qbr', 'r-yds', 'r-tds']\n",
    "df_filtered = df[['name'] + features].dropna()\n",
    "\n",
    "# Normalize features\n",
    "scaler = MinMaxScaler()\n",
    "df_filtered[features] = scaler.fit_transform(df_filtered[features])\n",
    "\n",
    "# Compute similarity (cosine distance)\n",
    "def get_similar_players(query_player, df, features, top_n=10):\n",
    "    query_vector = df[df['name'] == query_player][features].values\n",
    "    all_vectors = df[features].values\n",
    "    distances = cdist(all_vectors, query_vector, metric='cosine').flatten()\n",
    "    df['similarity_score'] = 1 - distances  # Convert cosine distance to similarity\n",
    "    return df[['name', 'similarity_score']].sort_values(by='similarity_score', ascending=False)[1:top_n+1]\n",
    "\n",
    "# Query players\n",
    "query_players = ['Patrick Mahomes', 'Lamar Jackson', 'Tom Brady']\n",
    "for player in query_players:\n",
    "    print(f\"Top 10 players similar to {player}:\")\n",
    "    print(get_similar_players(player, df_filtered, features))\n",
    "    print(\"\\n\")\n"
   ]
  },
  {
   "cell_type": "code",
   "execution_count": 14,
   "id": "a4b83d0e-b4d6-49f3-a1af-5f517a8a86c6",
   "metadata": {},
   "outputs": [
    {
     "data": {
      "image/png": "[encoded data removed]",
      "text/plain": [
       "<Figure size 640x480 with 1 Axes>"
      ]
     },
     "metadata": {},
     "output_type": "display_data"
    }
   ],
   "source": [
    "from sklearn.cluster import KMeans\n",
    "import matplotlib.pyplot as plt\n",
    "\n",
    "\n",
    "inertia = []\n",
    "K_range = range(1, 10)\n",
    "for k in K_range:\n",
    "    kmeans = KMeans(n_clusters=k, random_state=42)\n",
    "    kmeans.fit(df_filtered[features])\n",
    "    inertia.append(kmeans.inertia_)\n",
    "\n",
    "plt.plot(K_range, inertia, marker='o')\n",
    "plt.xlabel('Number of Clusters (k)')\n",
    "plt.ylabel('Inertia')\n",
    "plt.title('Elbow Method for Optimal k')\n",
    "plt.show()\n",
    "\n",
    "optimal_k = 3\n",
    "kmeans = KMeans(n_clusters=optimal_k, random_state=42)\n",
    "df_filtered['cluster'] = kmeans.fit_predict(df_filtered[features])\n"
   ]
  },
  {
   "cell_type": "code",
   "execution_count": 18,
   "id": "4912febb-f97a-4b5a-aa8c-0be6a9883aaa",
   "metadata": {},
   "outputs": [
    {
     "name": "stdout",
     "output_type": "stream",
     "text": [
      "[[56  0  0]\n",
      " [ 1 21  0]\n",
      " [ 0  1  9]]\n",
      "              precision    recall  f1-score   support\n",
      "\n",
      "           0       0.98      1.00      0.99        56\n",
      "           1       0.95      0.95      0.95        22\n",
      "           2       1.00      0.90      0.95        10\n",
      "\n",
      "    accuracy                           0.98        88\n",
      "   macro avg       0.98      0.95      0.96        88\n",
      "weighted avg       0.98      0.98      0.98        88\n",
      "\n"
     ]
    }
   ],
   "source": [
    "from sklearn.model_selection import train_test_split\n",
    "from sklearn.neighbors import KNeighborsClassifier\n",
    "from sklearn.metrics import classification_report, confusion_matrix\n",
    "\n",
    "X = df_filtered[features]\n",
    "y = df_filtered['cluster']\n",
    "\n",
    "X_train, X_test, y_train, y_test = train_test_split(X, y, test_size=0.3, random_state=42)\n",
    "\n",
    "knn = KNeighborsClassifier(n_neighbors=5)\n",
    "knn.fit(X_train, y_train)\n",
    "\n",
    "y_pred = knn.predict(X_test)\n",
    "print(confusion_matrix(y_test, y_pred))\n",
    "print(classification_report(y_test, y_pred))\n"
   ]
  }
 ],
 "metadata": {
  "kernelspec": {
   "display_name": "Python 3 (ipykernel)",
   "language": "python",
   "name": "python3"
  },
  "language_info": {
   "codemirror_mode": {
    "name": "ipython",
    "version": 3
   },
   "file_extension": ".py",
   "mimetype": "text/x-python",
   "name": "python",
   "nbconvert_exporter": "python",
   "pygments_lexer": "ipython3",
   "version": "3.12.4"
  }
 },
 "nbformat": 4,
 "nbformat_minor": 5
}
